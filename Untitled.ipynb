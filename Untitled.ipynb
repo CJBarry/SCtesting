{
 "cells": [
  {
   "cell_type": "code",
   "execution_count": 1,
   "metadata": {
    "collapsed": false
   },
   "outputs": [
    {
     "name": "stdout",
     "output_type": "stream",
     "text": [
      "__pycache__\n",
      "Assert.ipynb\n",
      "fib.py\n",
      "fib_tests.py\n",
      "mean.py\n",
      "mean_tests.py\n",
      "mod.py\n",
      "mod_tests.py\n",
      "mynum.py\n",
      "Untitled.ipynb\n"
     ]
    }
   ],
   "source": [
    "!ls"
   ]
  },
  {
   "cell_type": "code",
   "execution_count": 2,
   "metadata": {
    "collapsed": true
   },
   "outputs": [],
   "source": [
    "import mod_tests"
   ]
  },
  {
   "cell_type": "code",
   "execution_count": 3,
   "metadata": {
    "collapsed": true
   },
   "outputs": [],
   "source": [
    "mod_tests.test_mean_1234()"
   ]
  },
  {
   "cell_type": "code",
   "execution_count": 4,
   "metadata": {
    "collapsed": false
   },
   "outputs": [
    {
     "name": "stdout",
     "output_type": "stream",
     "text": [
      "from mean import *\n",
      "\n",
      "def test_ints():\n",
      "    num_list = [1,2,3,4,5]\n",
      "    obs = mean(num_list)\n",
      "    exp = 3\n",
      "    assert obs == exp\n",
      "\n",
      "def test_zero():\n",
      "    num_list=[0,2,4,6]\n",
      "    obs = mean(num_list)\n",
      "    exp = 3\n",
      "    assert obs == exp\n",
      "\n",
      "def test_double():\n",
      "    # This one will fail in Python 2\n",
      "    num_list=[1,2,3,4]\n",
      "    obs = mean(num_list)\n",
      "    exp = 2.5\n",
      "    assert obs == exp\n",
      "\n",
      "def test_long():\n",
      "    big = 100000000\n",
      "    obs = mean(range(1,big))\n",
      "    exp = big/2.0\n",
      "    assert obs == exp\n",
      "\n"
     ]
    }
   ],
   "source": [
    "!cat mean_tests.py"
   ]
  },
  {
   "cell_type": "code",
   "execution_count": 5,
   "metadata": {
    "collapsed": true
   },
   "outputs": [],
   "source": [
    "import mean_tests as mtst"
   ]
  },
  {
   "cell_type": "code",
   "execution_count": 7,
   "metadata": {
    "collapsed": false
   },
   "outputs": [],
   "source": [
    "mtst.test_double()"
   ]
  },
  {
   "cell_type": "code",
   "execution_count": 8,
   "metadata": {
    "collapsed": true
   },
   "outputs": [],
   "source": [
    "mtst.test_ints()"
   ]
  },
  {
   "cell_type": "code",
   "execution_count": 9,
   "metadata": {
    "collapsed": true
   },
   "outputs": [],
   "source": [
    "mtst.test_long()"
   ]
  },
  {
   "cell_type": "code",
   "execution_count": 10,
   "metadata": {
    "collapsed": true
   },
   "outputs": [],
   "source": [
    "mtst.test_zero()"
   ]
  },
  {
   "cell_type": "code",
   "execution_count": null,
   "metadata": {
    "collapsed": true
   },
   "outputs": [],
   "source": []
  }
 ],
 "metadata": {
  "anaconda-cloud": {},
  "kernelspec": {
   "display_name": "Python [Root]",
   "language": "python",
   "name": "Python [Root]"
  },
  "language_info": {
   "codemirror_mode": {
    "name": "ipython",
    "version": 3
   },
   "file_extension": ".py",
   "mimetype": "text/x-python",
   "name": "python",
   "nbconvert_exporter": "python",
   "pygments_lexer": "ipython3",
   "version": "3.5.1"
  }
 },
 "nbformat": 4,
 "nbformat_minor": 0
}
